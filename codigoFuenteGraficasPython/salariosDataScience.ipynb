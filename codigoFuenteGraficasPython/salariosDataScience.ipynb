{
 "cells": [
  {
   "cell_type": "code",
   "execution_count": 2,
   "metadata": {},
   "outputs": [],
   "source": [
    "import pandas as pd\n",
    "import matplotlib.pyplot as plt\n",
    "import seaborn as sns\n",
    "import numpy as np\n",
    "# Cargar los datos en un DataFrame\n",
    "df = pd.read_csv('ds_salaries.csv')"
   ]
  },
  {
   "cell_type": "code",
   "execution_count": 3,
   "metadata": {},
   "outputs": [
    {
     "data": {
      "text/plain": [
       "<Axes: >"
      ]
     },
     "execution_count": 3,
     "metadata": {},
     "output_type": "execute_result"
    },
    {
     "data": {
      "image/png": "[encoded data removed]",
      "text/plain": [
       "<Figure size 640x480 with 1 Axes>"
      ]
     },
     "metadata": {},
     "output_type": "display_data"
    }
   ],
   "source": [
    "df.boxplot(column='salary_in_usd', vert = False)"
   ]
  },
  {
   "cell_type": "code",
   "execution_count": 4,
   "metadata": {},
   "outputs": [
    {
     "name": "stdout",
     "output_type": "stream",
     "text": [
      "Valores atípicos del salario en dólares:\n",
      "[ 95000.  95000. 175000. 175000.  95000.]\n",
      "[95000.  5132.]\n",
      "[175000. 293000.]\n",
      "[5132 5132]\n",
      "[293000 293000]\n",
      "[135000. 135000.]\n",
      "[342810 309400 300000 342300 318300 309400 300000 329500 304000 353200\n",
      " 297300 317070 423834 376080 299500 297300 299500 340000 310000 310000\n",
      " 300240 300240 370000 323300 299500 310000 375000 318300 385000 370000\n",
      " 314100 350000 310000 300000 299500 300000 300000 297300 297300 310000\n",
      " 310000 430967 300000 310000 299500 300000 375000 350000 315000 300000\n",
      " 345600 300000 297500 300000 300000 324000 405000 380000 450000 416000\n",
      " 325000 423000 412000]\n"
     ]
    }
   ],
   "source": [
    "fig, ax = plt.subplots()\n",
    "ax.boxplot(df['salary_in_usd'], whis=1.5)\n",
    "outliers = [flier.get_ydata() for flier in ax.lines if flier.get_ydata().size > 0]\n",
    "\n",
    "print('Valores atípicos del salario en dólares:')\n",
    "for val in outliers:\n",
    "    print(val)"
   ]
  },
  {
   "cell_type": "code",
   "execution_count": null,
   "metadata": {},
   "outputs": [],
   "source": []
  },
  {
   "cell_type": "code",
   "execution_count": 5,
   "metadata": {},
   "outputs": [
    {
     "data": {
      "text/plain": [
       "Text(0.5, 1.0, 'Histograma del salario en USD sin valores atípicos')"
      ]
     },
     "execution_count": 5,
     "metadata": {},
     "output_type": "execute_result"
    }
   ],
   "source": [
    "q1 = df['salary_in_usd'].quantile(0.25)\n",
    "q3 = df['salary_in_usd'].quantile(0.75)\n",
    "iqr = q3 - q1\n",
    "lower_bound = q1 - 1.5 * iqr\n",
    "upper_bound = q3 + 1.5 * iqr\n",
    "data_filtered = df[(df['salary_in_usd'] > lower_bound) & (df['salary_in_usd'] < upper_bound)]\n",
    "\n",
    "# Crear el histograma\n",
    "plt.hist(data_filtered['salary_in_usd'], bins=20)\n",
    "plt.xlabel('Salario en USD')\n",
    "plt.ylabel('Frecuencia')\n",
    "plt.title('Histograma del salario en USD sin valores atípicos')"
   ]
  },
  {
   "cell_type": "code",
   "execution_count": 6,
   "metadata": {},
   "outputs": [
    {
     "data": {
      "text/plain": [
       "Text(0.5, 1.0, 'Histograma de Salarios en USD (Sin Valores Atípicos)')"
      ]
     },
     "execution_count": 6,
     "metadata": {},
     "output_type": "execute_result"
    }
   ],
   "source": [
    "q1 = df['salary_in_usd'].quantile(0.25)\n",
    "q3 = df['salary_in_usd'].quantile(0.75)\n",
    "iqr = q3 - q1\n",
    "lower_bound = q1 - 1.5 * iqr\n",
    "upper_bound = q3 + 1.5 * iqr\n",
    "\n",
    "df_no_outliers = df[(df['salary_in_usd'] >= lower_bound) & (df['salary_in_usd'] <= upper_bound)]\n",
    "\n",
    "bins = range(0, int(df_no_outliers['salary_in_usd'].max()), 20000)\n",
    "plt.hist(df_no_outliers['salary_in_usd'], bins=bins)\n",
    "\n",
    "plt.xlabel('Salario en USD')\n",
    "plt.ylabel('Frecuencia')\n",
    "plt.title('Histograma de Salarios en USD (Sin Valores Atípicos)')"
   ]
  },
  {
   "cell_type": "code",
   "execution_count": 7,
   "metadata": {},
   "outputs": [
    {
     "name": "stdout",
     "output_type": "stream",
     "text": [
      "El salario promedio para trabajadores senior en Estados Unidos es: $158,973.19\n",
      "El salario mediano para trabajadores senior en Estados Unidos es: $150,000.00\n",
      "La desviación estándar del salario en dólares para trabajadores senior en Estados Unidos es: $52,866.29\n",
      "El rango intercuartil del salario en dólares para trabajadores senior en Estados Unidos es: $67,300.00\n"
     ]
    }
   ],
   "source": [
    "# filtrar para trabajadores en Estados Unidos y nivel de experiencia senior\n",
    "senior_us_salaries_df = df[(df['employee_residence'] == 'US') & (df['experience_level'] == 'SE')]\n",
    "# seleccionar solo la columna de salario en dólares\n",
    "salaries_usd = senior_us_salaries_df['salary_in_usd']\n",
    "\n",
    "# calcular la media\n",
    "mean_salary = salaries_usd.mean()\n",
    "print(\"El salario promedio para trabajadores senior en Estados Unidos es: ${:,.2f}\".format(mean_salary))\n",
    "\n",
    "# calcular la mediana\n",
    "median_salary = salaries_usd.median()\n",
    "\n",
    "# calcular la desviación estándar\n",
    "std_dev = salaries_usd.std()\n",
    "\n",
    "# calcular el rango intercuartil\n",
    "q1 = salaries_usd.quantile(0.25)\n",
    "q3 = salaries_usd.quantile(0.75)\n",
    "iqr = q3 - q1\n",
    "\n",
    "print(\"El salario mediano para trabajadores senior en Estados Unidos es: ${:,.2f}\".format(median_salary))\n",
    "print(\"La desviación estándar del salario en dólares para trabajadores senior en Estados Unidos es: ${:,.2f}\".format(std_dev))\n",
    "print(\"El rango intercuartil del salario en dólares para trabajadores senior en Estados Unidos es: ${:,.2f}\".format(iqr))"
   ]
  },
  {
   "cell_type": "code",
   "execution_count": 8,
   "metadata": {},
   "outputs": [
    {
     "name": "stdout",
     "output_type": "stream",
     "text": [
      "2253\n"
     ]
    }
   ],
   "source": [
    "# filtrar los datos por employee_residence y experience_level\n",
    "df_filtered = df[(df['employee_residence'] == 'US') & (df['experience_level'] == 'SE')]\n",
    "\n",
    "# contar cuántos SE hay\n",
    "count_SE = len(df_filtered)\n",
    "\n",
    "print(count_SE)"
   ]
  },
  {
   "cell_type": "code",
   "execution_count": 9,
   "metadata": {},
   "outputs": [
    {
     "data": {
      "text/plain": [
       "Text(0.5, 1.0, 'Top 10 países con mayor cantidad de residentes de los empleados')"
      ]
     },
     "execution_count": 9,
     "metadata": {},
     "output_type": "execute_result"
    }
   ],
   "source": [
    "country_counts = df['employee_residence'].value_counts()\n",
    "top_countries = country_counts[country_counts >= 20]\n",
    "top_10_countries = top_countries.head(10)\n",
    "plt.bar(top_10_countries.index, top_10_countries.values)\n",
    "plt.xticks(rotation=90)\n",
    "plt.xlabel('Países')\n",
    "plt.ylabel('Frecuencia de empleados')\n",
    "plt.title('Top 10 países con mayor cantidad de residentes de los empleados')"
   ]
  },
  {
   "cell_type": "code",
   "execution_count": 10,
   "metadata": {},
   "outputs": [
    {
     "data": {
      "text/plain": [
       "<matplotlib.legend.Legend at 0x1bc9be6b150>"
      ]
     },
     "execution_count": 10,
     "metadata": {},
     "output_type": "execute_result"
    }
   ],
   "source": [
    "df_filtered = df[df['experience_level'].isin(['SE', 'MI', 'EN', 'EX'])]\n",
    "grouped = df_filtered.groupby(['employee_residence', 'experience_level']).size().reset_index(name='count')\n",
    "top_countries = grouped.groupby('employee_residence').sum().sort_values('count', ascending=False).head(5).index.tolist()\n",
    "grouped = grouped[grouped['employee_residence'].isin(top_countries)]\n",
    "sns.set(style='whitegrid')\n",
    "\n",
    "sns.barplot(data=grouped, x='employee_residence', y='count', hue='experience_level', order=top_countries)\n",
    "\n",
    "plt.title('Cantidad de empleados por país y experiencia laboral')\n",
    "plt.xlabel('País')\n",
    "plt.ylabel('frecuencia de empleados')\n",
    "plt.legend(title='Experiencia laboral')"
   ]
  },
  {
   "cell_type": "code",
   "execution_count": 11,
   "metadata": {},
   "outputs": [
    {
     "data": {
      "text/html": [
       "<div>\n",
       "<style scoped>\n",
       "    .dataframe tbody tr th:only-of-type {\n",
       "        vertical-align: middle;\n",
       "    }\n",
       "\n",
       "    .dataframe tbody tr th {\n",
       "        vertical-align: top;\n",
       "    }\n",
       "\n",
       "    .dataframe thead th {\n",
       "        text-align: right;\n",
       "    }\n",
       "</style>\n",
       "<table border=\"1\" class=\"dataframe\">\n",
       "  <thead>\n",
       "    <tr style=\"text-align: right;\">\n",
       "      <th>Nivel de experiencia</th>\n",
       "      <th>EN</th>\n",
       "      <th>EX</th>\n",
       "      <th>MI</th>\n",
       "      <th>SE</th>\n",
       "      <th>Total</th>\n",
       "    </tr>\n",
       "    <tr>\n",
       "      <th>Paises donde viven los empleados</th>\n",
       "      <th></th>\n",
       "      <th></th>\n",
       "      <th></th>\n",
       "      <th></th>\n",
       "      <th></th>\n",
       "    </tr>\n",
       "  </thead>\n",
       "  <tbody>\n",
       "    <tr>\n",
       "      <th>US</th>\n",
       "      <td>173</td>\n",
       "      <td>97</td>\n",
       "      <td>481</td>\n",
       "      <td>2253</td>\n",
       "      <td>3004</td>\n",
       "    </tr>\n",
       "    <tr>\n",
       "      <th>GB</th>\n",
       "      <td>13</td>\n",
       "      <td>2</td>\n",
       "      <td>117</td>\n",
       "      <td>35</td>\n",
       "      <td>167</td>\n",
       "    </tr>\n",
       "    <tr>\n",
       "      <th>CA</th>\n",
       "      <td>7</td>\n",
       "      <td>3</td>\n",
       "      <td>15</td>\n",
       "      <td>60</td>\n",
       "      <td>85</td>\n",
       "    </tr>\n",
       "    <tr>\n",
       "      <th>ES</th>\n",
       "      <td>5</td>\n",
       "      <td>1</td>\n",
       "      <td>22</td>\n",
       "      <td>52</td>\n",
       "      <td>80</td>\n",
       "    </tr>\n",
       "    <tr>\n",
       "      <th>IN</th>\n",
       "      <td>26</td>\n",
       "      <td>2</td>\n",
       "      <td>32</td>\n",
       "      <td>11</td>\n",
       "      <td>71</td>\n",
       "    </tr>\n",
       "  </tbody>\n",
       "</table>\n",
       "</div>"
      ],
      "text/plain": [
       "Nivel de experiencia               EN  EX   MI    SE  Total\n",
       "Paises donde viven los empleados                           \n",
       "US                                173  97  481  2253   3004\n",
       "GB                                 13   2  117    35    167\n",
       "CA                                  7   3   15    60     85\n",
       "ES                                  5   1   22    52     80\n",
       "IN                                 26   2   32    11     71"
      ]
     },
     "execution_count": 11,
     "metadata": {},
     "output_type": "execute_result"
    }
   ],
   "source": [
    "pivot_top_paises = pd.pivot_table(grouped, values='count', index='employee_residence', columns='experience_level', fill_value=0)\n",
    "pivot_top_paises.index.name = \"Paises donde viven los empleados\"\n",
    "pivot_top_paises['Total'] = pivot_top_paises.sum(axis=1)\n",
    "pivot_top_paises_sorted = pivot_top_paises.sort_values(by='Total', ascending=False)\n",
    "pivot_top_paises_sorted.columns.name = 'Nivel de experiencia'\n",
    "pivot_top_paises_sorted.head()"
   ]
  },
  {
   "cell_type": "code",
   "execution_count": 12,
   "metadata": {},
   "outputs": [
    {
     "name": "stdout",
     "output_type": "stream",
     "text": [
      "Data Engineer\n"
     ]
    }
   ],
   "source": [
    "mode_job_title = df['job_title'].mode()[0]\n",
    "print(mode_job_title)"
   ]
  },
  {
   "cell_type": "code",
   "execution_count": 13,
   "metadata": {},
   "outputs": [
    {
     "name": "stdout",
     "output_type": "stream",
     "text": [
      "La moda del job_title es 'Data Engineer' con un recuento de 1040 ocurrencias.\n"
     ]
    }
   ],
   "source": [
    "# calcular la moda del job_title y el recuento de ocurrencias\n",
    "mode_title = df['job_title'].mode()[0]\n",
    "count_mode = df['job_title'].value_counts()[mode_title]\n",
    "\n",
    "# imprimir los resultados\n",
    "print(f\"La moda del job_title es '{mode_title}' con un recuento de {count_mode} ocurrencias.\")"
   ]
  },
  {
   "cell_type": "code",
   "execution_count": 14,
   "metadata": {},
   "outputs": [
    {
     "name": "stdout",
     "output_type": "stream",
     "text": [
      "1        30000\n",
      "2        25500\n",
      "5       222200\n",
      "6       136000\n",
      "9       147100\n",
      "         ...  \n",
      "3749    165000\n",
      "3750    412000\n",
      "3751    151000\n",
      "3752    105000\n",
      "3753    100000\n",
      "Name: salary_in_usd, Length: 3004, dtype: int64\n"
     ]
    }
   ],
   "source": [
    "# Filtrar por residencia en Estados Unidos\n",
    "us_data = df[df['employee_residence'] == 'US']\n",
    "\n",
    "# Seleccionar la columna de salario en dólares\n",
    "us_salary = us_data['salary_in_usd']\n",
    "print(us_salary)"
   ]
  },
  {
   "cell_type": "code",
   "execution_count": 15,
   "metadata": {},
   "outputs": [
    {
     "name": "stdout",
     "output_type": "stream",
     "text": [
      "experience_level\n",
      "EN     93000.0\n",
      "EX    200000.0\n",
      "MI    125000.0\n",
      "SE    150000.0\n",
      "Name: salary_in_usd, dtype: float64\n"
     ]
    }
   ],
   "source": [
    "# Filtramos los registros que corresponden a empleados que residan en Estados Unidos\n",
    "us_df = df[df['employee_residence'] == 'US']\n",
    "# Agrupamos los registros por el experience_level y calculamos la mediana del salario en dólares para cada grupo\n",
    "mediana_por_experience_level = us_df.groupby('experience_level')['salary_in_usd'].median()\n",
    "\n",
    "print(mediana_por_experience_level)"
   ]
  },
  {
   "cell_type": "code",
   "execution_count": 16,
   "metadata": {},
   "outputs": [
    {
     "data": {
      "text/plain": [
       "Text(0.5, 1.0, 'Mediana Salario por Experience Level en US')"
      ]
     },
     "execution_count": 16,
     "metadata": {},
     "output_type": "execute_result"
    }
   ],
   "source": [
    "# Crear figura y ejes\n",
    "fig, ax = plt.subplots()\n",
    "\n",
    "# Crear gráfica de barras\n",
    "ax.bar(mediana_por_experience_level.index, mediana_por_experience_level)\n",
    "\n",
    "# Personalizar etiquetas y títulos\n",
    "ax.set_xlabel('Experience Level')\n",
    "ax.set_ylabel('Salario (USD)')\n",
    "ax.set_title('Mediana Salario por Experience Level en US')"
   ]
  },
  {
   "cell_type": "code",
   "execution_count": 17,
   "metadata": {},
   "outputs": [
    {
     "data": {
      "text/plain": [
       "experience_level\n",
       "EN    105478.017341\n",
       "EX    208037.742268\n",
       "MI    129903.031185\n",
       "SE    158973.194407\n",
       "Name: salary_in_usd, dtype: float64"
      ]
     },
     "execution_count": 17,
     "metadata": {},
     "output_type": "execute_result"
    }
   ],
   "source": [
    "# Filtrar por employee_residence sea US\n",
    "us_data = df[df[\"employee_residence\"] == \"US\"]\n",
    "\n",
    "# Calcular la media del salario en USD por experience_level\n",
    "salary_mean_by_exp_level = us_data.groupby(\"experience_level\")[\"salary_in_usd\"].mean()\n",
    "\n",
    "salary_mean_by_exp_level.head()"
   ]
  },
  {
   "cell_type": "code",
   "execution_count": 18,
   "metadata": {},
   "outputs": [
    {
     "data": {
      "text/plain": [
       "Text(0, 0.5, 'Salario en USD')"
      ]
     },
     "execution_count": 18,
     "metadata": {},
     "output_type": "execute_result"
    }
   ],
   "source": [
    "# Crear gráfico de barras\n",
    "plt.bar(salary_mean_by_exp_level.index, salary_mean_by_exp_level.values)\n",
    "\n",
    "# Configurar títulos y etiquetas de los ejes\n",
    "plt.title(\"Media del salario en USD por nivel de experiencia en US\")\n",
    "plt.xlabel(\"Nivel de experiencia\")\n",
    "plt.ylabel(\"Salario en USD\")"
   ]
  },
  {
   "cell_type": "code",
   "execution_count": 19,
   "metadata": {},
   "outputs": [
    {
     "data": {
      "text/plain": [
       "Text(0, 0.5, 'Salario en USD')"
      ]
     },
     "execution_count": 19,
     "metadata": {},
     "output_type": "execute_result"
    }
   ],
   "source": [
    "# Filtrar por employee_residence no sea US\n",
    "non_us_data = df[df[\"employee_residence\"] != \"US\"]\n",
    "\n",
    "# Calcular la media del salario en USD por experience_level\n",
    "salary_mean_by_exp_level = non_us_data.groupby(\"experience_level\")[\"salary_in_usd\"].mean()\n",
    "\n",
    "# Crear el gráfico de barras\n",
    "plt.bar(salary_mean_by_exp_level.index, salary_mean_by_exp_level.values)\n",
    "\n",
    "# Configurar el título y las etiquetas de los ejes\n",
    "plt.title(\"Media del salario en USD por nivel de experiencia (excluyendo US)\")\n",
    "plt.xlabel(\"Nivel de experiencia\")\n",
    "plt.ylabel(\"Salario en USD\")"
   ]
  },
  {
   "cell_type": "code",
   "execution_count": 20,
   "metadata": {},
   "outputs": [],
   "source": [
    "# filtrar el dataframe original para obtener solo los remote_ratio 0, 50 y 100\n",
    "df_filtered = df[df['remote_ratio'].isin([0, 50, 100])]\n",
    "\n",
    "# agrupar por experience_level y remote_ratio y contar cuántos trabajan en cada combinación\n",
    "grouped = df_filtered.groupby(['experience_level', 'remote_ratio']).size().unstack()\n",
    "\n",
    "# crear el gráfico de barras agrupados\n",
    "fig, ax = plt.subplots()\n",
    "index = np.arange(len(grouped.index))\n",
    "bar_width = 0.25\n",
    "opacity = 0.8\n",
    "\n",
    "rects1 = ax.bar(index, grouped[0], bar_width, alpha=opacity, color='b', label='No trabajo remoto 0%')\n",
    "rects2 = ax.bar(index + bar_width, grouped[50], bar_width, alpha=opacity, color='g', label='Hibrido 50%')\n",
    "rects3 = ax.bar(index + 2*bar_width, grouped[100], bar_width, alpha=opacity, color='r', label='Trabajo remoto 100%')\n",
    "\n",
    "ax.set_xlabel('Nivel de experiencia')\n",
    "ax.set_ylabel('Número de empleados')\n",
    "ax.set_title('Número de empleados por experiencia y remote ratio, en todos los paises.')\n",
    "ax.set_xticks(index + bar_width)\n",
    "ax.set_xticklabels(grouped.index)\n",
    "ax.legend()\n",
    "\n",
    "fig.tight_layout()"
   ]
  },
  {
   "cell_type": "code",
   "execution_count": 21,
   "metadata": {},
   "outputs": [
    {
     "name": "stdout",
     "output_type": "stream",
     "text": [
      "Mediana del salario en dolares:  135000.0\n",
      "Salario en dolares la media aritmetica: 137570.38988015978\n",
      "Residencia en moda 0    US\n",
      "Name: employee_residence, dtype: object\n"
     ]
    }
   ],
   "source": [
    "# Calcula la mediana\n",
    "median_salary = df['salary_in_usd'].median()\n",
    "\n",
    "# Calcula la media aritmética\n",
    "mean_salary = df['salary_in_usd'].mean()\n",
    "\n",
    "mode_residence = df['employee_residence'].mode()\n",
    "\n",
    "print(\"Mediana del salario en dolares: \",median_salary)\n",
    "print(\"Salario en dolares la media aritmetica:\", mean_salary)\n",
    "print(\"Residencia en moda\",mode_residence)"
   ]
  },
  {
   "cell_type": "code",
   "execution_count": 22,
   "metadata": {},
   "outputs": [
    {
     "data": {
      "text/html": [
       "<div>\n",
       "<style scoped>\n",
       "    .dataframe tbody tr th:only-of-type {\n",
       "        vertical-align: middle;\n",
       "    }\n",
       "\n",
       "    .dataframe tbody tr th {\n",
       "        vertical-align: top;\n",
       "    }\n",
       "\n",
       "    .dataframe thead th {\n",
       "        text-align: right;\n",
       "    }\n",
       "</style>\n",
       "<table border=\"1\" class=\"dataframe\">\n",
       "  <thead>\n",
       "    <tr style=\"text-align: right;\">\n",
       "      <th></th>\n",
       "      <th>Frecuencia</th>\n",
       "    </tr>\n",
       "    <tr>\n",
       "      <th>Nivel de experiencia</th>\n",
       "      <th></th>\n",
       "    </tr>\n",
       "  </thead>\n",
       "  <tbody>\n",
       "    <tr>\n",
       "      <th>EN</th>\n",
       "      <td>320</td>\n",
       "    </tr>\n",
       "    <tr>\n",
       "      <th>EX</th>\n",
       "      <td>114</td>\n",
       "    </tr>\n",
       "    <tr>\n",
       "      <th>MI</th>\n",
       "      <td>805</td>\n",
       "    </tr>\n",
       "    <tr>\n",
       "      <th>SE</th>\n",
       "      <td>2516</td>\n",
       "    </tr>\n",
       "  </tbody>\n",
       "</table>\n",
       "</div>"
      ],
      "text/plain": [
       "                      Frecuencia\n",
       "Nivel de experiencia            \n",
       "EN                           320\n",
       "EX                           114\n",
       "MI                           805\n",
       "SE                          2516"
      ]
     },
     "execution_count": 22,
     "metadata": {},
     "output_type": "execute_result"
    }
   ],
   "source": [
    "freq_ex_levels = df['experience_level'].value_counts()\n",
    "# Creamos un DataFrame con los valores de freq_ex_levels\n",
    "df_freq_ex_levels = pd.DataFrame({'Nivel de experiencia': freq_ex_levels.index, 'Frecuencia': freq_ex_levels.values})\n",
    "\n",
    "# Creamos la tabla dinámica\n",
    "pivot_table = pd.pivot_table(df_freq_ex_levels, values='Frecuencia', index='Nivel de experiencia')\n",
    "\n",
    "# Mostramos la tabla dinámica\n",
    "pivot_table.head()"
   ]
  },
  {
   "cell_type": "code",
   "execution_count": 23,
   "metadata": {},
   "outputs": [
    {
     "name": "stdout",
     "output_type": "stream",
     "text": [
      "Mediana de salarios para experiencia nivel EX: USD 135000.0\n",
      "Media de salarios para experiencia nivel EX: USD 137570.38988015978\n",
      "2570.3898801597825\n"
     ]
    }
   ],
   "source": [
    "# Calcular la mediana y media aritmética de los salarios en USD para los datos con experience_level == 'EX'\n",
    "median_salary_EX = df['salary_in_usd'].median()\n",
    "mean_salary_EX = df['salary_in_usd'].mean()\n",
    "\n",
    "# Imprimir los resultados\n",
    "print(\"Mediana de salarios para experiencia nivel EX: USD\", median_salary_EX)\n",
    "print(\"Media de salarios para experiencia nivel EX: USD\", mean_salary_EX)\n",
    "print(mean_salary_EX - median_salary_EX)"
   ]
  },
  {
   "cell_type": "code",
   "execution_count": 24,
   "metadata": {},
   "outputs": [
    {
     "data": {
      "text/plain": [
       "<matplotlib.legend.Legend at 0x1bc9e0a87d0>"
      ]
     },
     "execution_count": 24,
     "metadata": {},
     "output_type": "execute_result"
    }
   ],
   "source": [
    "# Diccionario de códigos ISO 2 para países europeos\n",
    "european_countries = {'AL': 'EU', 'AD': 'EU', 'AT': 'EU', 'BY': 'EU', 'BE': 'EU', 'BA': 'EU', 'BG': 'EU', 'HR': 'EU', 'CY': 'EU', 'CZ': 'EU', 'DK': 'EU', 'EE': 'EU', 'FO': 'EU', 'FI': 'EU', 'FR': 'EU', 'DE': 'EU', 'GI': 'EU', 'GR': 'EU', 'HU': 'EU', 'IS': 'EU', 'IE': 'EU', 'IM': 'EU', 'IT': 'EU', 'RS': 'EU', 'LV': 'EU', 'LI': 'EU', 'LT': 'EU', 'LU': 'EU', 'MK': 'EU', 'MT': 'EU', 'MD': 'EU', 'MC': 'EU', 'ME': 'EU', 'NL': 'EU', 'NO': 'EU', 'PL': 'EU', 'PT': 'EU', 'RO': 'EU', 'RU': 'EU', 'SM': 'EU', 'RS': 'EU', 'SK': 'EU', 'SI': 'EU', 'ES': 'EU', 'SE': 'EU', 'CH': 'EU', 'UA': 'EU', 'GB': 'EU'}\n",
    "\n",
    "# Agregamos una nueva columna de clasificación de países\n",
    "df['country_group'] = df['employee_residence'].apply(lambda x: european_countries.get(x, 'Otros') if x != 'US' else 'US')\n",
    "\n",
    "# Contamos la frecuencia de las categorías y creamos un gráfico de torta\n",
    "freq = df['country_group'].value_counts()\n",
    "freq.plot(kind='pie', autopct='%1.1f%%', startangle=90, explode=[0.1, 0, 0], labels=None)\n",
    "plt.legend(labels=freq.index, loc='upper left')"
   ]
  },
  {
   "cell_type": "code",
   "execution_count": 25,
   "metadata": {},
   "outputs": [
    {
     "data": {
      "text/plain": [
       "([<matplotlib.patches.Wedge at 0x1bc9e0bb750>,\n",
       "  <matplotlib.patches.Wedge at 0x1bc9e11cf50>,\n",
       "  <matplotlib.patches.Wedge at 0x1bc9e11e850>],\n",
       " [Text(-0.4206329078116555, 1.0163995065258107, 'Europa'),\n",
       "  Text(0.2571255296420056, -1.0695262792499856, 'América del Norte'),\n",
       "  Text(0.17139601585285208, 1.0865649569858993, 'Otros')],\n",
       " [Text(-0.22943613153363027, 0.5543997308322604, '12.5%'),\n",
       "  Text(0.14025028889563937, -0.5833779704999921, '82.5%'),\n",
       "  Text(0.0934887359197375, 0.5926717947195813, '5.0%')])"
      ]
     },
     "execution_count": 25,
     "metadata": {},
     "output_type": "execute_result"
    }
   ],
   "source": [
    "# Definir los datos\n",
    "sizes = [469, 3099, 187]\n",
    "labels = ['Europa', 'América del Norte', 'Otros']\n",
    "\n",
    "# Crear la figura y el eje\n",
    "fig, ax = plt.subplots()\n",
    "\n",
    "# Crear el gráfico de torta\n",
    "ax.pie(sizes, labels=labels, autopct='%1.1f%%', startangle=90)\n"
   ]
  },
  {
   "cell_type": "code",
   "execution_count": 26,
   "metadata": {},
   "outputs": [],
   "source": [
    "# filtrar el dataframe original para obtener solo los remote_ratio 0, 50 y 100\n",
    "df_filtered = df.loc[df['employee_residence'] == 'US'].loc[df['remote_ratio'].isin([0, 50, 100])]\n",
    "\n",
    "# agrupar por experience_level y remote_ratio y contar cuántos trabajan en cada combinación\n",
    "grouped = df_filtered.groupby(['experience_level', 'remote_ratio']).size().unstack()\n",
    "\n",
    "# crear el gráfico de barras agrupados\n",
    "fig, ax = plt.subplots()\n",
    "index = np.arange(len(grouped.index))\n",
    "bar_width = 0.25\n",
    "opacity = 0.8\n",
    "\n",
    "rects1 = ax.bar(index, grouped[0], bar_width, alpha=opacity, color='b', label='No trabajo remoto 0%')\n",
    "rects2 = ax.bar(index + bar_width, grouped[50], bar_width, alpha=opacity, color='g', label='Hibrido 50%')\n",
    "rects3 = ax.bar(index + 2*bar_width, grouped[100], bar_width, alpha=opacity, color='r', label='Trabajo remoto 100%')\n",
    "\n",
    "ax.set_xlabel('Nivel de experiencia')\n",
    "ax.set_ylabel('Número de empleados')\n",
    "ax.set_title('Número de empleados por experiencia y remote ratio, en USA.')\n",
    "ax.set_xticks(index + bar_width)\n",
    "ax.set_xticklabels(grouped.index)\n",
    "ax.legend()\n",
    "\n",
    "fig.tight_layout()"
   ]
  },
  {
   "cell_type": "code",
   "execution_count": 27,
   "metadata": {},
   "outputs": [
    {
     "data": {
      "text/html": [
       "<div>\n",
       "<style scoped>\n",
       "    .dataframe tbody tr th:only-of-type {\n",
       "        vertical-align: middle;\n",
       "    }\n",
       "\n",
       "    .dataframe tbody tr th {\n",
       "        vertical-align: top;\n",
       "    }\n",
       "\n",
       "    .dataframe thead th {\n",
       "        text-align: right;\n",
       "    }\n",
       "</style>\n",
       "<table border=\"1\" class=\"dataframe\">\n",
       "  <thead>\n",
       "    <tr style=\"text-align: right;\">\n",
       "      <th>Trabajo remoto en USA.</th>\n",
       "      <th>0</th>\n",
       "      <th>50</th>\n",
       "      <th>100</th>\n",
       "    </tr>\n",
       "    <tr>\n",
       "      <th>Experiencia de nivel</th>\n",
       "      <th></th>\n",
       "      <th></th>\n",
       "      <th></th>\n",
       "    </tr>\n",
       "  </thead>\n",
       "  <tbody>\n",
       "    <tr>\n",
       "      <th>EN</th>\n",
       "      <td>89.0</td>\n",
       "      <td>15.0</td>\n",
       "      <td>69.0</td>\n",
       "    </tr>\n",
       "    <tr>\n",
       "      <th>EX</th>\n",
       "      <td>49.0</td>\n",
       "      <td>-</td>\n",
       "      <td>48.0</td>\n",
       "    </tr>\n",
       "    <tr>\n",
       "      <th>MI</th>\n",
       "      <td>286.0</td>\n",
       "      <td>12.0</td>\n",
       "      <td>183.0</td>\n",
       "    </tr>\n",
       "    <tr>\n",
       "      <th>SE</th>\n",
       "      <td>1243.0</td>\n",
       "      <td>8.0</td>\n",
       "      <td>1002.0</td>\n",
       "    </tr>\n",
       "  </tbody>\n",
       "</table>\n",
       "</div>"
      ],
      "text/plain": [
       "Trabajo remoto en USA.     0     50      100\n",
       "Experiencia de nivel                        \n",
       "EN                        89.0  15.0    69.0\n",
       "EX                        49.0     -    48.0\n",
       "MI                       286.0  12.0   183.0\n",
       "SE                      1243.0   8.0  1002.0"
      ]
     },
     "execution_count": 27,
     "metadata": {},
     "output_type": "execute_result"
    }
   ],
   "source": [
    "grouped.index.name = \"Experiencia de nivel\"\n",
    "grouped.columns.name = \"Trabajo remoto en USA.\"\n",
    "grouped = grouped.fillna(\"-\")\n",
    "grouped"
   ]
  },
  {
   "cell_type": "code",
   "execution_count": 28,
   "metadata": {},
   "outputs": [],
   "source": [
    "def columns_data_to_array(archive, column=0, limit=100):\n",
    "    selected_column = archive.columns[column]\n",
    "    ls = []\n",
    "    l = 1\n",
    "    for index, row in archive.iterrows():\n",
    "        if l <= limit:\n",
    "            val = row[selected_column]\n",
    "            ls.append(val)\n",
    "            l += 1\n",
    "        else:\n",
    "            break\n",
    "\n",
    "    return ls\n",
    "\n",
    "def gini_coefficient(values):\n",
    "    # Ordenar los valores de forma ascendente\n",
    "    sorted_values = sorted(values)\n",
    "    n = len(values)\n",
    "\n",
    "    # Calcular la suma acumulada de las frecuencias relativas\n",
    "    cumulative_sum = sum((i + 1) * val for i, val in enumerate(sorted_values))\n",
    "\n",
    "    # Calcular el coeficiente de Gini\n",
    "    mean = sum(sorted_values) / n\n",
    "    gini = (2 * cumulative_sum) / (n * sum(sorted_values)) - (n + 1) / n\n",
    "\n",
    "    return gini"
   ]
  },
  {
   "cell_type": "code",
   "execution_count": 29,
   "metadata": {},
   "outputs": [
    {
     "name": "stdout",
     "output_type": "stream",
     "text": [
      "Cantidad de empleados con residencia en Estados Unidos: 3004\n"
     ]
    }
   ],
   "source": [
    "num_us_residents = len(df[df['employee_residence'] == 'US'])\n",
    "print(\"Cantidad de empleados con residencia en Estados Unidos:\", num_us_residents)\n"
   ]
  }
 ],
 "metadata": {
  "kernelspec": {
   "display_name": "Python 3",
   "language": "python",
   "name": "python3"
  },
  "language_info": {
   "codemirror_mode": {
    "name": "ipython",
    "version": 3
   },
   "file_extension": ".py",
   "mimetype": "text/x-python",
   "name": "python",
   "nbconvert_exporter": "python",
   "pygments_lexer": "ipython3",
   "version": "3.11.1"
  },
  "orig_nbformat": 4
 },
 "nbformat": 4,
 "nbformat_minor": 2
}
